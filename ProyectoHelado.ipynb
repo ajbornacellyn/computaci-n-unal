{
  "nbformat": 4,
  "nbformat_minor": 0,
  "metadata": {
    "colab": {
      "name": "ProyectoHelado.ipynb",
      "provenance": [],
      "collapsed_sections": [],
      "include_colab_link": true
    },
    "kernelspec": {
      "name": "python3",
      "display_name": "Python 3"
    }
  },
  "cells": [
    {
      "cell_type": "markdown",
      "metadata": {
        "id": "view-in-github",
        "colab_type": "text"
      },
      "source": [
        "<a href=\"https://colab.research.google.com/github/ajbornacellyn/computaci-n-unal/blob/master/ProyectoHelado.ipynb\" target=\"_parent\"><img src=\"https://colab.research.google.com/assets/colab-badge.svg\" alt=\"Open In Colab\"/></a>"
      ]
    },
    {
      "cell_type": "code",
      "metadata": {
        "id": "659mLdneDdOE",
        "colab_type": "code",
        "outputId": "a222316f-162f-494f-f154-3771cc4ef6d6",
        "colab": {
          "base_uri": "https://localhost:8080/",
          "height": 375
        }
      },
      "source": [
        "import sys\n",
        "\n",
        "def mostrarMenu():\n",
        "  titulo = \"Administracion de heladeria\"\n",
        "  print(titulo.center(50,\"*\"),\"\\n\")\n",
        "  print(\"Seleccione una opción (1-5) o q para salir\\n1.Comprar\\n2.Agregar un producto\\n3.Ver inventario\\n4.Agregrar al inventario\\n5.Total de ventas del dia\\nq: Salir\")\n",
        "\n",
        "\n",
        "\n",
        "def ingresarDatos():\n",
        "  while True:\n",
        "    eleccion = input()\n",
        "    if eleccion == \"1\" or eleccion == \"2\" or eleccion == \"3\" or eleccion == \"4\" or eleccion == \"5\":\n",
        "      return int(eleccion)\n",
        "      break\n",
        "    elif eleccion == \"q\":\n",
        "      return eleccion\n",
        "      break\n",
        "    else:\n",
        "      print(\"Entrada invalida. Por favor intente de nuevo\") \n",
        "\n",
        "def elegirMenuPrincipal(p):\n",
        "  if p == 1:\n",
        "    venta(helados,coberturas)\n",
        "  if p == 2:\n",
        "    print(\"Agregar\")\n",
        "  if p == 3:\n",
        "    mostrarInventario(helados,coberturas)\n",
        "  if p == 4:\n",
        "    print(\"agregar\")\n",
        "  if p == 5:\n",
        "    print(\"totla\")\n",
        "  if p == \"q\":\n",
        "    sys.exit()\n",
        "\n",
        "def venta(h,c):\n",
        "  print(\"Nueva venta\\nEscoja un sabor:\")\n",
        "  contador = 0 \n",
        "  print(\"N°) \\t Sabor              \\t Precio         \\t Cantidad\")\n",
        "  while contador < len(helados):\n",
        "    print(contador +1,\")\", '\\t', helados[contador][0],\"           \", '\\t', helados[contador][1],\"         \" ,'\\t', helados[contador][2])\n",
        "    contador += 1\n",
        "  eleccion = input()\n",
        "\n",
        "def mostrarInventario(h,c):\n",
        "  primt(\"INVENTARIO\")\n",
        "  \n",
        "#listaHelados\n",
        "#Nombre, precio, cantidad\n",
        "helados = [[\"Vainilla\", 2000, 12],[\"Chocolate\", 1500, 50]]\n",
        "#listaCoverturas\n",
        "#Nombre, precio, cantidad\n",
        "coberturas = [[\"M&Ms\",1500,30],[\"Galletas\",2500,40]]\n",
        "\n",
        "mostrarMenu()\n",
        "elegirMenuPrincipal(ingresarDatos())\n"
      ],
      "execution_count": 0,
      "outputs": [
        {
          "output_type": "stream",
          "text": [
            "***********Administracion de heladeria************ \n",
            "\n",
            "Seleccione una opción (1-5) o q para salir\n",
            "1.Comprar\n",
            "2.Agregar un producto\n",
            "3.Ver inventario\n",
            "4.Agregrar al inventario\n",
            "5.Total de ventas del dia\n",
            "q: Salir\n",
            "9\n",
            "Entrada invalida. Por favor intente de nuevo\n",
            "10\n",
            "Entrada invalida. Por favor intente de nuevo\n",
            "11\n",
            "Entrada invalida. Por favor intente de nuevo\n",
            "1\n",
            "Nueva venta\n",
            "Escoja un sabor:\n",
            "N°) \t Sabor              \t Precio         \t Cantidad\n",
            "1 ) \t Vainilla             \t 2000           \t 12\n",
            "2 ) \t Chocolate             \t 1500           \t 50\n",
            "5\n"
          ],
          "name": "stdout"
        }
      ]
    },
    {
      "cell_type": "code",
      "metadata": {
        "id": "OA1eCqyDceli",
        "colab_type": "code",
        "colab": {}
      },
      "source": [
        ""
      ],
      "execution_count": 0,
      "outputs": []
    }
  ]
}